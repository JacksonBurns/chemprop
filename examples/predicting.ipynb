{
 "cells": [
  {
   "cell_type": "markdown",
   "metadata": {},
   "source": [
    "# Import packages"
   ]
  },
  {
   "cell_type": "code",
   "execution_count": 1,
   "metadata": {},
   "outputs": [],
   "source": [
    "import pandas as pd\n",
    "import numpy as np\n",
    "import torch\n",
    "from lightning import pytorch as pl\n",
    "\n",
    "from chemprop import data\n",
    "from chemprop import featurizers\n",
    "from chemprop import models"
   ]
  },
  {
   "cell_type": "markdown",
   "metadata": {},
   "source": [
    "# Change model input here"
   ]
  },
  {
   "cell_type": "code",
   "execution_count": 4,
   "metadata": {},
   "outputs": [],
   "source": [
    "checkpoint_path = 'model.pt'"
   ]
  },
  {
   "cell_type": "markdown",
   "metadata": {},
   "source": [
    "## Load model"
   ]
  },
  {
   "cell_type": "code",
   "execution_count": 5,
   "metadata": {},
   "outputs": [
    {
     "ename": "KeyError",
     "evalue": "'hyper_parameters'",
     "output_type": "error",
     "traceback": [
      "\u001b[0;31m---------------------------------------------------------------------------\u001b[0m",
      "\u001b[0;31mKeyError\u001b[0m                                  Traceback (most recent call last)",
      "\u001b[1;32m/Users/kevingreenman/code/chemprop/examples/predicting.ipynb Cell 6\u001b[0m line \u001b[0;36m1\n\u001b[0;32m----> <a href='vscode-notebook-cell:/Users/kevingreenman/code/chemprop/examples/predicting.ipynb#W5sZmlsZQ%3D%3D?line=0'>1</a>\u001b[0m mpnn \u001b[39m=\u001b[39m models\u001b[39m.\u001b[39;49mMPNN\u001b[39m.\u001b[39;49mload_from_checkpoint(checkpoint_path)\n\u001b[1;32m      <a href='vscode-notebook-cell:/Users/kevingreenman/code/chemprop/examples/predicting.ipynb#W5sZmlsZQ%3D%3D?line=1'>2</a>\u001b[0m mpnn\n",
      "File \u001b[0;32m~/code/chemprop/chemprop/models/model.py:226\u001b[0m, in \u001b[0;36mMPNN.load_from_checkpoint\u001b[0;34m(cls, checkpoint_path, map_location, hparams_file, strict, **kwargs)\u001b[0m\n\u001b[1;32m    222\u001b[0m \u001b[39m@classmethod\u001b[39m\n\u001b[1;32m    223\u001b[0m \u001b[39mdef\u001b[39;00m \u001b[39mload_from_checkpoint\u001b[39m(\n\u001b[1;32m    224\u001b[0m     \u001b[39mcls\u001b[39m, checkpoint_path, map_location\u001b[39m=\u001b[39m\u001b[39mNone\u001b[39;00m, hparams_file\u001b[39m=\u001b[39m\u001b[39mNone\u001b[39;00m, strict\u001b[39m=\u001b[39m\u001b[39mTrue\u001b[39;00m, \u001b[39m*\u001b[39m\u001b[39m*\u001b[39mkwargs\n\u001b[1;32m    225\u001b[0m ) \u001b[39m-\u001b[39m\u001b[39m>\u001b[39m MPNN:\n\u001b[0;32m--> 226\u001b[0m     hparams \u001b[39m=\u001b[39m torch\u001b[39m.\u001b[39;49mload(checkpoint_path)[\u001b[39m\"\u001b[39;49m\u001b[39mhyper_parameters\u001b[39;49m\u001b[39m\"\u001b[39;49m]\n\u001b[1;32m    228\u001b[0m     kwargs \u001b[39m|\u001b[39m\u001b[39m=\u001b[39m {\n\u001b[1;32m    229\u001b[0m         key: hparams[key]\u001b[39m.\u001b[39mpop(\u001b[39m\"\u001b[39m\u001b[39mcls\u001b[39m\u001b[39m\"\u001b[39m)(\u001b[39m*\u001b[39m\u001b[39m*\u001b[39mhparams[key])\n\u001b[1;32m    230\u001b[0m         \u001b[39mfor\u001b[39;00m key \u001b[39min\u001b[39;00m (\u001b[39m\"\u001b[39m\u001b[39mmessage_passing\u001b[39m\u001b[39m\"\u001b[39m, \u001b[39m\"\u001b[39m\u001b[39magg\u001b[39m\u001b[39m\"\u001b[39m, \u001b[39m\"\u001b[39m\u001b[39mpredictor\u001b[39m\u001b[39m\"\u001b[39m)\n\u001b[1;32m    231\u001b[0m     }\n\u001b[1;32m    233\u001b[0m     \u001b[39mreturn\u001b[39;00m \u001b[39msuper\u001b[39m()\u001b[39m.\u001b[39mload_from_checkpoint(\n\u001b[1;32m    234\u001b[0m         checkpoint_path, map_location, hparams_file, strict, \u001b[39m*\u001b[39m\u001b[39m*\u001b[39mkwargs\n\u001b[1;32m    235\u001b[0m     )\n",
      "\u001b[0;31mKeyError\u001b[0m: 'hyper_parameters'"
     ]
    }
   ],
   "source": [
    "mpnn = models.MPNN.load_from_checkpoint(checkpoint_path)\n",
    "mpnn"
   ]
  },
  {
   "cell_type": "markdown",
   "metadata": {},
   "source": [
    "# Change predict input here"
   ]
  },
  {
   "cell_type": "code",
   "execution_count": 6,
   "metadata": {},
   "outputs": [],
   "source": [
    "test_path = '../tests/data/regression_test_smiles.csv'\n",
    "smiles_column = 'smiles'"
   ]
  },
  {
   "cell_type": "markdown",
   "metadata": {},
   "source": [
    "## Load test smiles"
   ]
  },
  {
   "cell_type": "code",
   "execution_count": 7,
   "metadata": {},
   "outputs": [
    {
     "data": {
      "text/html": [
       "<div>\n",
       "<style scoped>\n",
       "    .dataframe tbody tr th:only-of-type {\n",
       "        vertical-align: middle;\n",
       "    }\n",
       "\n",
       "    .dataframe tbody tr th {\n",
       "        vertical-align: top;\n",
       "    }\n",
       "\n",
       "    .dataframe thead th {\n",
       "        text-align: right;\n",
       "    }\n",
       "</style>\n",
       "<table border=\"1\" class=\"dataframe\">\n",
       "  <thead>\n",
       "    <tr style=\"text-align: right;\">\n",
       "      <th></th>\n",
       "      <th>smiles</th>\n",
       "    </tr>\n",
       "  </thead>\n",
       "  <tbody>\n",
       "    <tr>\n",
       "      <th>0</th>\n",
       "      <td>CCOP(=S)(OCC)SC(CCl)N2C(=O)c1ccccc1C2=O</td>\n",
       "    </tr>\n",
       "    <tr>\n",
       "      <th>1</th>\n",
       "      <td>Brc1ccc(Br)cc1</td>\n",
       "    </tr>\n",
       "    <tr>\n",
       "      <th>2</th>\n",
       "      <td>Cn2c(=O)on(c1ccc(Cl)c(Cl)c1)c2=O</td>\n",
       "    </tr>\n",
       "    <tr>\n",
       "      <th>3</th>\n",
       "      <td>Oc1ccc(cc1)c2ccccc2</td>\n",
       "    </tr>\n",
       "    <tr>\n",
       "      <th>4</th>\n",
       "      <td>CC1=C(CCCO1)C(=O)Nc2ccccc2</td>\n",
       "    </tr>\n",
       "    <tr>\n",
       "      <th>5</th>\n",
       "      <td>CCOC=C</td>\n",
       "    </tr>\n",
       "    <tr>\n",
       "      <th>6</th>\n",
       "      <td>CCC#C</td>\n",
       "    </tr>\n",
       "    <tr>\n",
       "      <th>7</th>\n",
       "      <td>COc1ncnc2nccnc12</td>\n",
       "    </tr>\n",
       "    <tr>\n",
       "      <th>8</th>\n",
       "      <td>CCCCC(C)(O)CC</td>\n",
       "    </tr>\n",
       "    <tr>\n",
       "      <th>9</th>\n",
       "      <td>Clc1ccc(Cl)cc1</td>\n",
       "    </tr>\n",
       "  </tbody>\n",
       "</table>\n",
       "</div>"
      ],
      "text/plain": [
       "                                    smiles\n",
       "0  CCOP(=S)(OCC)SC(CCl)N2C(=O)c1ccccc1C2=O\n",
       "1                           Brc1ccc(Br)cc1\n",
       "2         Cn2c(=O)on(c1ccc(Cl)c(Cl)c1)c2=O\n",
       "3                      Oc1ccc(cc1)c2ccccc2\n",
       "4               CC1=C(CCCO1)C(=O)Nc2ccccc2\n",
       "5                                   CCOC=C\n",
       "6                                    CCC#C\n",
       "7                         COc1ncnc2nccnc12\n",
       "8                            CCCCC(C)(O)CC\n",
       "9                           Clc1ccc(Cl)cc1"
      ]
     },
     "execution_count": 7,
     "metadata": {},
     "output_type": "execute_result"
    }
   ],
   "source": [
    "df_test = pd.read_csv(test_path)\n",
    "df_test"
   ]
  },
  {
   "cell_type": "markdown",
   "metadata": {},
   "source": [
    "## Get smiles"
   ]
  },
  {
   "cell_type": "code",
   "execution_count": 8,
   "metadata": {},
   "outputs": [
    {
     "data": {
      "text/plain": [
       "['CCOP(=S)(OCC)SC(CCl)N2C(=O)c1ccccc1C2=O',\n",
       " 'Brc1ccc(Br)cc1',\n",
       " 'Cn2c(=O)on(c1ccc(Cl)c(Cl)c1)c2=O',\n",
       " 'Oc1ccc(cc1)c2ccccc2',\n",
       " 'CC1=C(CCCO1)C(=O)Nc2ccccc2']"
      ]
     },
     "execution_count": 8,
     "metadata": {},
     "output_type": "execute_result"
    }
   ],
   "source": [
    "smis = df_test[smiles_column].tolist()\n",
    "smis[:5]"
   ]
  },
  {
   "cell_type": "markdown",
   "metadata": {},
   "source": [
    "## Get molecule datapoints"
   ]
  },
  {
   "cell_type": "code",
   "execution_count": 9,
   "metadata": {},
   "outputs": [],
   "source": [
    "test_data = [data.MoleculeDatapoint.from_smi(smi) for smi in smis]"
   ]
  },
  {
   "cell_type": "markdown",
   "metadata": {},
   "source": [
    "## Get molecule dataset"
   ]
  },
  {
   "cell_type": "code",
   "execution_count": 10,
   "metadata": {},
   "outputs": [
    {
     "ename": "TypeError",
     "evalue": "Can't instantiate abstract class MoleculeMolGraphFeaturizer with abstract method __call__",
     "output_type": "error",
     "traceback": [
      "\u001b[0;31m---------------------------------------------------------------------------\u001b[0m",
      "\u001b[0;31mTypeError\u001b[0m                                 Traceback (most recent call last)",
      "\u001b[1;32m/Users/kevingreenman/code/chemprop/examples/predicting.ipynb Cell 16\u001b[0m line \u001b[0;36m1\n\u001b[0;32m----> <a href='vscode-notebook-cell:/Users/kevingreenman/code/chemprop/examples/predicting.ipynb#X21sZmlsZQ%3D%3D?line=0'>1</a>\u001b[0m featurizer \u001b[39m=\u001b[39m featurizers\u001b[39m.\u001b[39;49mMoleculeMolGraphFeaturizer()\n\u001b[1;32m      <a href='vscode-notebook-cell:/Users/kevingreenman/code/chemprop/examples/predicting.ipynb#X21sZmlsZQ%3D%3D?line=1'>2</a>\u001b[0m test_dset \u001b[39m=\u001b[39m data\u001b[39m.\u001b[39mMoleculeDataset(test_data, featurizer\u001b[39m=\u001b[39mfeaturizer)\n\u001b[1;32m      <a href='vscode-notebook-cell:/Users/kevingreenman/code/chemprop/examples/predicting.ipynb#X21sZmlsZQ%3D%3D?line=2'>3</a>\u001b[0m test_loader \u001b[39m=\u001b[39m data\u001b[39m.\u001b[39mMolGraphDataLoader(test_dset, shuffle\u001b[39m=\u001b[39m\u001b[39mFalse\u001b[39;00m)\n",
      "\u001b[0;31mTypeError\u001b[0m: Can't instantiate abstract class MoleculeMolGraphFeaturizer with abstract method __call__"
     ]
    }
   ],
   "source": [
    "featurizer = featurizers.SimpleMoleculeMolGraphFeaturizer()\n",
    "test_dset = data.MoleculeDataset(test_data, featurizer=featurizer)\n",
    "test_loader = data.MolGraphDataLoader(test_dset, shuffle=False)"
   ]
  },
  {
   "cell_type": "markdown",
   "metadata": {},
   "source": [
    "# Set up trainer"
   ]
  },
  {
   "cell_type": "code",
   "execution_count": null,
   "metadata": {},
   "outputs": [],
   "source": [
    "with torch.inference_mode():\n",
    "    trainer = pl.Trainer(\n",
    "        logger=None,\n",
    "        enable_progress_bar=True,\n",
    "        accelerator=\"auto\",\n",
    "        devices=1\n",
    "    )\n",
    "    test_preds = trainer.predict(mpnn, test_loader)"
   ]
  },
  {
   "cell_type": "code",
   "execution_count": null,
   "metadata": {},
   "outputs": [],
   "source": [
    "test_preds = np.concatenate(test_preds, axis=0)\n",
    "df_test['pred'] = test_preds\n",
    "df_test"
   ]
  },
  {
   "cell_type": "code",
   "execution_count": null,
   "metadata": {},
   "outputs": [],
   "source": []
  }
 ],
 "metadata": {
  "kernelspec": {
   "display_name": "Python 3",
   "language": "python",
   "name": "python3"
  },
  "language_info": {
   "codemirror_mode": {
    "name": "ipython",
    "version": 3
   },
   "file_extension": ".py",
   "mimetype": "text/x-python",
   "name": "python",
   "nbconvert_exporter": "python",
   "pygments_lexer": "ipython3",
   "version": "3.11.5"
  },
  "orig_nbformat": 4
 },
 "nbformat": 4,
 "nbformat_minor": 2
}
