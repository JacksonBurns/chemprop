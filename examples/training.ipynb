{
    "cells": [
        {
            "cell_type": "markdown",
            "metadata": {},
            "source": [
                "# Import packages"
            ]
        },
        {
            "cell_type": "code",
            "execution_count": null,
            "metadata": {},
            "outputs": [],
            "source": [
                "import pandas as pd\n",
                "\n",
                "from lightning import pytorch as pl\n",
                "from sklearn.model_selection import train_test_split\n",
                "\n",
                "from chemprop import data, featurizers, models, nn"
            ]
        },
        {
            "cell_type": "markdown",
            "metadata": {},
            "source": [
                "# Change data inputs here"
            ]
        },
        {
            "cell_type": "code",
            "execution_count": null,
            "metadata": {},
            "outputs": [],
            "source": [
                "input_path = '../tests/data/regression/mol/mol.csv' # path to your data .csv file\n",
                "num_workers = 0 # number of workers for dataloader. 0 means using main process for data loading\n",
                "smiles_column = 'smiles' # name of the column containing SMILES strings\n",
                "target_columns = ['lipo'] # list of names of the columns containing targets"
            ]
        },
        {
            "cell_type": "markdown",
            "metadata": {},
            "source": [
                "## Load data"
            ]
        },
        {
            "cell_type": "code",
            "execution_count": null,
            "metadata": {},
            "outputs": [],
            "source": [
                "df_input = pd.read_csv(input_path)\n",
                "df_input"
            ]
        },
        {
            "cell_type": "markdown",
            "metadata": {},
            "source": [
                "## Get SMILES and targets"
            ]
        },
        {
            "cell_type": "code",
            "execution_count": null,
            "metadata": {},
            "outputs": [],
            "source": [
                "smis = df_input.loc[:, smiles_column].values\n",
                "ys = df_input.loc[:, target_columns].values"
            ]
        },
        {
            "cell_type": "code",
            "execution_count": null,
            "metadata": {},
            "outputs": [],
            "source": [
                "smis[:5] # show first 5 SMILES strings"
            ]
        },
        {
            "cell_type": "code",
            "execution_count": null,
            "metadata": {},
            "outputs": [],
            "source": [
                "ys[:5] # show first 5 targets"
            ]
        },
        {
            "cell_type": "markdown",
            "metadata": {},
            "source": [
                "## Get molecule datapoints"
            ]
        },
        {
            "cell_type": "code",
            "execution_count": null,
            "metadata": {},
            "outputs": [],
            "source": [
                "all_data = [data.MoleculeDatapoint.from_smi(smi, y) for smi, y in zip(smis, ys)]"
            ]
        },
        {
            "cell_type": "markdown",
            "metadata": {},
            "source": [
                "## Perform data splitting for training, validation, and testing"
            ]
        },
        {
            "cell_type": "code",
            "execution_count": null,
            "metadata": {},
            "outputs": [],
            "source": [
                "train_data, val_test_data = train_test_split(all_data, test_size=0.1)\n",
                "val_data, test_data = train_test_split(val_test_data, test_size=0.5)"
            ]
        },
        {
            "cell_type": "markdown",
            "metadata": {},
            "source": [
                "## Get MoleculeDataset"
            ]
        },
        {
            "cell_type": "code",
            "execution_count": null,
            "metadata": {},
            "outputs": [],
            "source": [
                "featurizer = featurizers.SimpleMoleculeMolGraphFeaturizer()\n",
                "\n",
                "train_dset = data.MoleculeDataset(train_data, featurizer)\n",
                "scaler = train_dset.normalize_targets()\n",
                "\n",
                "val_dset = data.MoleculeDataset(val_data, featurizer)\n",
                "val_dset.normalize_targets(scaler)\n",
                "test_dset = data.MoleculeDataset(test_data, featurizer)\n",
                "test_dset.normalize_targets(scaler)\n"
            ]
        },
        {
            "cell_type": "markdown",
            "metadata": {},
            "source": [
                "## Get DataLoader"
            ]
        },
        {
            "cell_type": "code",
            "execution_count": null,
            "metadata": {},
            "outputs": [],
            "source": [
                "train_loader = data.MolGraphDataLoader(train_dset, num_workers=num_workers)\n",
                "val_loader = data.MolGraphDataLoader(val_dset, num_workers=num_workers, shuffle=False)\n",
                "test_loader = data.MolGraphDataLoader(test_dset, num_workers=num_workers, shuffle=False)"
            ]
        },
        {
            "cell_type": "markdown",
            "metadata": {},
            "source": [
                "# Change Message-Passing Neural Network (MPNN) inputs here"
            ]
        },
        {
            "cell_type": "markdown",
            "metadata": {},
            "source": [
                "## Message Passing\n",
                "A `Message passing` constructs molecular graphs using message passing to learn node-level hidden representations.\n",
                "\n",
                "Options are `mp = nn.BondMessagePassing()` or `mp = nn.AtomMessagePassing()`"
            ]
        },
        {
            "cell_type": "code",
            "execution_count": null,
            "metadata": {},
            "outputs": [],
            "source": [
                "mp = nn.BondMessagePassing()"
            ]
        },
        {
            "cell_type": "markdown",
            "metadata": {},
            "source": [
                "## Aggregation\n",
                "An `Aggregation` is responsible for constructing a graph-level representation from the set of node-level representations after message passing.\n",
                "\n",
                "Available options can be found in ` nn.agg.AggregationRegistry`, including\n",
                "- `agg = nn.MeanAggregation()`\n",
                "- `agg = nn.SumAggregation()`\n",
                "- `agg = nn.NormAggregation()`"
            ]
        },
        {
            "cell_type": "code",
            "execution_count": null,
            "metadata": {},
            "outputs": [],
            "source": [
                "print(nn.agg.AggregationRegistry)"
            ]
        },
        {
            "cell_type": "code",
            "execution_count": null,
            "metadata": {},
            "outputs": [],
            "source": [
                "agg = nn.MeanAggregation()"
            ]
        },
        {
            "cell_type": "markdown",
            "metadata": {},
            "source": [
                "## Feed-Forward Network (FFN)\n",
                "\n",
                "A `FFN` takes the aggregated representations and make target predictions.\n",
                "\n",
                "Available options can be found in `nn.PredictorRegistry`.\n",
                "\n",
                "For regression:\n",
                "- `ffn = nn.RegressionFFN()`\n",
                "- `ffn = nn.MveFFN()`\n",
                "- `ffn = nn.EvidentialFFN()`\n",
                "\n",
                "For classification:\n",
                "- `ffn = nn.BinaryClassificationFFN()`\n",
                "- `ffn = nn.BinaryDirichletFFN()`\n",
                "- `ffn = nn.MulticlassClassificationFFN()`\n",
                "- `ffn = nn.MulticlassDirichletFFN()`\n",
                "\n",
                "For spectral:\n",
                "- `ffn = nn.SpectralFFN()` # will be available in future version"
            ]
        },
        {
            "cell_type": "code",
            "execution_count": null,
            "metadata": {},
            "outputs": [],
            "source": [
                "print(nn.PredictorRegistry)"
            ]
        },
        {
            "cell_type": "code",
            "execution_count": null,
            "metadata": {},
            "outputs": [],
            "source": [
                "ffn = nn.RegressionFFN(\n",
                "    loc=scaler.mean_, # pass in the mean of the training targets\n",
                "    scale=scaler.scale_, # pass in the scale of the training targets\n",
                ")"
            ]
        },
        {
            "cell_type": "markdown",
            "metadata": {},
            "source": [
                "## Batch Norm\n",
                "A `Batch Norm` normalizes the outputs of the aggregation by re-centering and re-scaling.\n",
                "\n",
                "Whether to use batch norm"
            ]
        },
        {
            "cell_type": "code",
            "execution_count": null,
            "metadata": {},
            "outputs": [],
            "source": [
                "batch_norm = True"
            ]
        },
        {
            "cell_type": "markdown",
            "metadata": {},
            "source": [
                "## Metrics\n",
                "`Metrics` are the ways to evaluate the performance of model predictions.\n",
                "\n",
                "Available options can be found in `metrics.MetricRegistry`, including"
            ]
        },
        {
            "cell_type": "code",
            "execution_count": null,
            "metadata": {},
            "outputs": [],
            "source": [
                "print(nn.metrics.MetricRegistry)"
            ]
        },
        {
            "cell_type": "code",
            "execution_count": null,
            "metadata": {},
            "outputs": [],
            "source": [
                "metric_list = [nn.metrics.RMSEMetric(), nn.metrics.MAEMetric()] # Only the first metric is used for training and early stopping"
            ]
        },
        {
            "cell_type": "markdown",
            "metadata": {},
            "source": [
                "## Constructs MPNN"
            ]
        },
        {
            "cell_type": "code",
            "execution_count": null,
            "metadata": {},
            "outputs": [],
            "source": [
                "mpnn = models.MPNN(mp, agg, ffn, batch_norm, metric_list)\n",
                "\n",
                "mpnn"
            ]
        },
        {
            "cell_type": "markdown",
            "metadata": {},
            "source": [
                "# Set up trainer"
            ]
        },
        {
            "cell_type": "code",
            "execution_count": null,
            "metadata": {},
            "outputs": [],
            "source": [
                "trainer = pl.Trainer(\n",
                "    logger=False,\n",
                "    enable_checkpointing=True, # Use `True` if you want to save model checkpoints. The checkpoints will be saved in the `checkpoints` folder.\n",
                "    enable_progress_bar=True,\n",
                "    accelerator=\"auto\",\n",
                "    devices=1,\n",
                "    max_epochs=20, # number of epochs to train for\n",
                ")"
            ]
        },
        {
            "cell_type": "markdown",
            "metadata": {},
            "source": [
                "# Start training"
            ]
        },
        {
            "cell_type": "code",
            "execution_count": null,
            "metadata": {},
            "outputs": [],
            "source": [
                "trainer.fit(mpnn, train_loader, val_loader)"
            ]
        },
        {
            "cell_type": "markdown",
            "metadata": {},
            "source": [
                "# Test results"
            ]
        },
        {
            "cell_type": "code",
            "execution_count": null,
            "metadata": {},
            "outputs": [],
            "source": [
                "results = trainer.test(mpnn, test_loader)\n"
            ]
        },
        {
            "cell_type": "code",
            "execution_count": null,
            "metadata": {},
            "outputs": [],
            "source": []
        }
    ],
    "metadata": {
        "kernelspec": {
            "display_name": "Python 3",
            "language": "python",
            "name": "python3"
        },
        "language_info": {
            "codemirror_mode": {
                "name": "ipython",
                "version": 3
            },
            "file_extension": ".py",
            "mimetype": "text/x-python",
            "name": "python",
            "nbconvert_exporter": "python",
            "pygments_lexer": "ipython3",
            "version": "3.11.6"
        },
        "orig_nbformat": 4
    },
    "nbformat": 4,
    "nbformat_minor": 2
}
