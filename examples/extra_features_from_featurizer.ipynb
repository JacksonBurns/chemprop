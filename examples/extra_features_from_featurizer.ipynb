{
 "cells": [
  {
   "cell_type": "markdown",
   "metadata": {},
   "source": [
    "# Extra Features from Featurizer"
   ]
  },
  {
   "cell_type": "markdown",
   "metadata": {},
   "source": [
    "# Loading packages"
   ]
  },
  {
   "cell_type": "code",
   "execution_count": null,
   "metadata": {},
   "outputs": [],
   "source": [
    "import numpy as np\n",
    "import pandas as pd\n",
    "from rdkit import Chem\n",
    "from chemprop import data, utils\n",
    "from chemprop.featurizers import MoleculeFeaturizer\n",
    "from rdkit.Chem import rdFingerprintGenerator\n",
    "from dataclasses import dataclass"
   ]
  },
  {
   "cell_type": "markdown",
   "metadata": {},
   "source": [
    "# Change data inputs here"
   ]
  },
  {
   "cell_type": "code",
   "execution_count": null,
   "metadata": {},
   "outputs": [],
   "source": [
    "test_path = '../tests/data/regression.csv'\n",
    "target_columns = ['logSolubility']"
   ]
  },
  {
   "cell_type": "code",
   "execution_count": null,
   "metadata": {},
   "outputs": [],
   "source": [
    "df_test = pd.read_csv(test_path)\n",
    "df_test"
   ]
  },
  {
   "cell_type": "code",
   "execution_count": null,
   "metadata": {},
   "outputs": [],
   "source": [
    "smis = df_test['smiles']\n",
    "ys = df_test.loc[:, target_columns].values"
   ]
  },
  {
   "cell_type": "markdown",
   "metadata": {},
   "source": [
    "# Creating custom featurizers\n",
    "Custom featurizers can be made by inheriting the ```MoleculeFeaturizer``` class.\n",
    "These featurizers must override the following methods:\n",
    "- ```__len__(self)```\n",
    "- ```__call__(self, mol: Chem.mol)```"
   ]
  },
  {
   "cell_type": "code",
   "execution_count": null,
   "metadata": {},
   "outputs": [],
   "source": [
    "@dataclass\n",
    "class MorganFingerprintMoleculeFeaturizer(MoleculeFeaturizer):\n",
    "    fp_size: int = 2048\n",
    "\n",
    "    def __post_init__(self):\n",
    "        self.mfpgen = rdFingerprintGenerator.GetMorganGenerator(radius=2, fpSize=self.fp_size)\n",
    "\n",
    "    def __len__(self) -> int:\n",
    "        \"\"\"the length of the feature vector\"\"\"\n",
    "        return self.fp_size\n",
    "\n",
    "    def __call__(self, mol: Chem.Mol) -> np.ndarray:\n",
    "        \"\"\"Featurize the molecule ``mol``\"\"\"\n",
    "        fp = self.mfpgen.GetFingerprintAsNumPy(mol)\n",
    "        return fp"
   ]
  },
  {
   "cell_type": "markdown",
   "metadata": {},
   "source": [
    "## Testing the featurizer"
   ]
  },
  {
   "cell_type": "code",
   "execution_count": null,
   "metadata": {},
   "outputs": [],
   "source": [
    "mf = MorganFingerprintMoleculeFeaturizer()\n",
    "morgan = mf(utils.make_mol(smis[0], keep_h=False, add_h=False))\n",
    "morgan.shape, morgan"
   ]
  },
  {
   "cell_type": "markdown",
   "metadata": {},
   "source": [
    "## Loading featurizers into datapoints"
   ]
  },
  {
   "cell_type": "code",
   "execution_count": null,
   "metadata": {},
   "outputs": [],
   "source": [
    "mfs = [MorganFingerprintMoleculeFeaturizer()] # supply a list of all featurizers that \n",
    "                                              # will generate the extra features. This is separate \n",
    "                                              # from the main featurizer supplied to molecule datasets.\n",
    "                                              \n",
    "# An arbitrary amount of molecule featurizers can be supplied to each datapoint in a dataset.\n",
    "# Note that pre-obtained extra features cannot also be added at the same time, as shown in\n",
    "# the loaded molecule features notebook. An attempt to do so will result in an error.\n",
    "                                              \n",
    "all_data = [data.MoleculeDatapoint.from_smi(smi, y=y, mfs=mfs) for smi, y in zip(smis, ys)]\n",
    "all_data[:5]"
   ]
  }
 ],
 "metadata": {
  "kernelspec": {
   "display_name": "Python 3",
   "language": "python",
   "name": "python3"
  },
  "language_info": {
   "codemirror_mode": {
    "name": "ipython",
    "version": 3
   },
   "file_extension": ".py",
   "mimetype": "text/x-python",
   "name": "python",
   "nbconvert_exporter": "python",
   "pygments_lexer": "ipython3",
   "version": "3.11.6"
  },
  "orig_nbformat": 4
 },
 "nbformat": 4,
 "nbformat_minor": 2
}
